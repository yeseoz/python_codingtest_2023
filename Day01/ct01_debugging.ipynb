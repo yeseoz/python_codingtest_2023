{
 "cells": [
  {
   "attachments": {},
   "cell_type": "markdown",
   "metadata": {},
   "source": [
    "## 코딩테스트를 진행하며 실수하기 쉬운 4가지 오류 찾아보기\n",
    "\n",
    "### 결함있는 코드"
   ]
  },
  {
   "cell_type": "code",
   "execution_count": 13,
   "metadata": {},
   "outputs": [
    {
     "name": "stdout",
     "output_type": "stream",
     "text": [
      "1 = 312.0\n",
      "2 = 312.0\n"
     ]
    }
   ],
   "source": [
    "# 배열의 주어진 범위의 합을 2로 나눈 몫을 구하세요\n",
    "import random\n",
    "\n",
    "testcase = int(input()) # 횟수\n",
    "# answer = 0\n",
    "A = [0]*(100001) # 10만개 리스트\n",
    "\n",
    "for i in range(0,100001): # 1만개만 1~100 수를 채워넣기 => 2번 10001은 0 개수를 잘못 넣은 것\n",
    "    A[i] = random.randrange(1, 101)\n",
    "\n",
    "for t in range(1, testcase+1):\n",
    "    answer = 0  # 1번 초기화문제 해결\n",
    "    start, end = map(int, input().split())\n",
    "\n",
    "    for i in range(start, end+1):\n",
    "        answer = answer + A[i]\n",
    "\n",
    "    # 4번 결과값이 정수로 나오려면 / 대신 // 로 변경해야한다.\n",
    "    print(f'{t} = {answer//2}') # 3번 testcase는 잘못 넣은 값임 t로 변경해야한다.\n",
    "    "
   ]
  },
  {
   "attachments": {},
   "cell_type": "markdown",
   "metadata": {},
   "source": [
    "### 예외 1\n",
    "\n",
    "answer 초기호를 안함\n",
    " \n",
    "### 예외 2\n",
    "\n",
    "배열 범위를 잘못입력\n",
    "\n",
    "### 예외 3\n",
    "\n",
    "변수를 잘못사용 -> 결과가 다르겍 나옴\n",
    "\n",
    "### 예외 4\n",
    "\n",
    "형변환 때문에 실수로 나온 것(나누기 연산자 문제)"
   ]
  }
 ],
 "metadata": {
  "kernelspec": {
   "display_name": "Python 3",
   "language": "python",
   "name": "python3"
  },
  "language_info": {
   "codemirror_mode": {
    "name": "ipython",
    "version": 3
   },
   "file_extension": ".py",
   "mimetype": "text/x-python",
   "name": "python",
   "nbconvert_exporter": "python",
   "pygments_lexer": "ipython3",
   "version": "3.11.1"
  },
  "orig_nbformat": 4,
  "vscode": {
   "interpreter": {
    "hash": "a3d8f53f1429d27b792a3789224562ddd32c1395c9a9cfbb17b3c19c3b9a493d"
   }
  }
 },
 "nbformat": 4,
 "nbformat_minor": 2
}
