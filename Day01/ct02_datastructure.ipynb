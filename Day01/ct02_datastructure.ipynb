{
 "cells": [
  {
   "attachments": {},
   "cell_type": "markdown",
   "metadata": {},
   "source": [
    "### 자료구조\n",
    "\n",
    "#### 숫자의 합 - 백준 11720"
   ]
  },
  {
   "cell_type": "code",
   "execution_count": 13,
   "metadata": {},
   "outputs": [
    {
     "ename": "ValueError",
     "evalue": "invalid literal for int() with base 10: ''",
     "output_type": "error",
     "traceback": [
      "\u001b[1;31m---------------------------------------------------------------------------\u001b[0m",
      "\u001b[1;31mValueError\u001b[0m                                Traceback (most recent call last)",
      "Cell \u001b[1;32mIn[13], line 2\u001b[0m\n\u001b[0;32m      1\u001b[0m \u001b[39m# input에 문자열 파라미터를 넣으면 틀린문제로 간주!\u001b[39;00m\n\u001b[1;32m----> 2\u001b[0m number \u001b[39m=\u001b[39m \u001b[39mint\u001b[39;49m(\u001b[39minput\u001b[39;49m(\u001b[39m'\u001b[39;49m\u001b[39m숫자의 개수를 입력하세요\u001b[39;49m\u001b[39m'\u001b[39;49m))\n\u001b[0;32m      3\u001b[0m \u001b[39m#numbers = list(map(int, input(f'{number}개의 수를 입력 : ').split())) # split은 자르는건데 자를수 있는게 없어서 틀림\u001b[39;00m\n\u001b[0;32m      4\u001b[0m numbers \u001b[39m=\u001b[39m \u001b[39mlist\u001b[39m(\u001b[39minput\u001b[39m(\u001b[39mf\u001b[39m\u001b[39m'\u001b[39m\u001b[39m{\u001b[39;00mnumber\u001b[39m}\u001b[39;00m\u001b[39m개의 숫자를 입력하세요 :\u001b[39m\u001b[39m'\u001b[39m))\n",
      "\u001b[1;31mValueError\u001b[0m: invalid literal for int() with base 10: ''"
     ]
    }
   ],
   "source": [
    "# input에 문자열 파라미터를 넣으면 틀린문제로 간주!\n",
    "number = int(input('숫자의 개수를 입력하세요'))\n",
    "#numbers = list(map(int, input(f'{number}개의 수를 입력 : ').split())) # split은 자르는건데 자를수 있는게 없어서 틀림\n",
    "numbers = list(input(f'{number}개의 숫자를 입력하세요 :'))\n",
    "sum = 0\n",
    "\n",
    "for i in numbers:\n",
    "    sum += int(i)\n",
    "\n",
    "print(sum)"
   ]
  },
  {
   "attachments": {},
   "cell_type": "markdown",
   "metadata": {},
   "source": [
    "#### 평균구하기 - 백준 1546\n"
   ]
  },
  {
   "cell_type": "code",
   "execution_count": 35,
   "metadata": {},
   "outputs": [
    {
     "ename": "ValueError",
     "evalue": "invalid literal for int() with base 10: ''",
     "output_type": "error",
     "traceback": [
      "\u001b[1;31m---------------------------------------------------------------------------\u001b[0m",
      "\u001b[1;31mValueError\u001b[0m                                Traceback (most recent call last)",
      "Cell \u001b[1;32mIn[35], line 1\u001b[0m\n\u001b[1;32m----> 1\u001b[0m n \u001b[39m=\u001b[39m \u001b[39mint\u001b[39;49m(\u001b[39minput\u001b[39;49m()) \u001b[39m# 과목수\u001b[39;00m\n\u001b[0;32m      2\u001b[0m score \u001b[39m=\u001b[39m \u001b[39mlist\u001b[39m(\u001b[39mmap\u001b[39m(\u001b[39mint\u001b[39m, \u001b[39minput\u001b[39m()\u001b[39m.\u001b[39msplit())) \u001b[39m# 점수 다 받는거\u001b[39;00m\n\u001b[0;32m      3\u001b[0m mysum \u001b[39m=\u001b[39m \u001b[39m0\u001b[39m\n",
      "\u001b[1;31mValueError\u001b[0m: invalid literal for int() with base 10: ''"
     ]
    }
   ],
   "source": [
    "n = int(input()) # 과목수\n",
    "score = list(map(int, input().split())) # 점수 다 받는거\n",
    "mysum = 0\n",
    "max_score = max(score)\n",
    "\n",
    "for i in score:\n",
    "    mysum += i\n",
    "\n",
    "print(mysum * 100 / max_score / n)"
   ]
  },
  {
   "attachments": {},
   "cell_type": "markdown",
   "metadata": {},
   "source": [
    "### 구간 합 구하기 1 백준 11659"
   ]
  },
  {
   "cell_type": "code",
   "execution_count": 41,
   "metadata": {},
   "outputs": [
    {
     "name": "stdout",
     "output_type": "stream",
     "text": [
      "12\n",
      "9\n",
      "1\n"
     ]
    }
   ],
   "source": [
    "# # 입력속도를 개선! 단, 주피터 노트북에서는 실행불가\n",
    "# import sys\n",
    "# input = sys.stdin.readline\n",
    "\n",
    "N, M = tuple(map(int,input().split()))\n",
    "numbers = list(map(int,input().split()))\n",
    "sums = [0] # 배열 0번째 인덱스\n",
    "temp = 0\n",
    "\n",
    "for i in numbers:\n",
    "    temp = temp + i # temp 5 9 12 14 15\n",
    "    sums.append(temp)\n",
    "    #[0, 5, 9, 12, 14, 15]\n",
    "\n",
    "for i in range(M):\n",
    "    x, y = tuple(map(int,input().split()))\n",
    "    print(sums[y] - sums[x-1])\n"
   ]
  }
 ],
 "metadata": {
  "kernelspec": {
   "display_name": "Python 3",
   "language": "python",
   "name": "python3"
  },
  "language_info": {
   "codemirror_mode": {
    "name": "ipython",
    "version": 3
   },
   "file_extension": ".py",
   "mimetype": "text/x-python",
   "name": "python",
   "nbconvert_exporter": "python",
   "pygments_lexer": "ipython3",
   "version": "3.11.1"
  },
  "orig_nbformat": 4,
  "vscode": {
   "interpreter": {
    "hash": "a3d8f53f1429d27b792a3789224562ddd32c1395c9a9cfbb17b3c19c3b9a493d"
   }
  }
 },
 "nbformat": 4,
 "nbformat_minor": 2
}
