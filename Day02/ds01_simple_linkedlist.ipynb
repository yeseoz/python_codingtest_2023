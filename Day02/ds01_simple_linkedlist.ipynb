{
 "cells": [
  {
   "attachments": {},
   "cell_type": "markdown",
   "metadata": {},
   "source": [
    "### 단순 연력리스트\n",
    "\n",
    "#### 노드 생성"
   ]
  },
  {
   "cell_type": "code",
   "execution_count": 9,
   "metadata": {},
   "outputs": [],
   "source": [
    "class Node:\n",
    "    def __init__(self) -> None:\n",
    "        self.data = None # 현재 값\n",
    "        self.link = None # 다음 노드 가리킴\n",
    "\n",
    "    def __str__(self) -> str:\n",
    "        return f'{self.data}'"
   ]
  },
  {
   "attachments": {},
   "cell_type": "markdown",
   "metadata": {},
   "source": [
    "#### 첫번째 노드 생성"
   ]
  },
  {
   "cell_type": "code",
   "execution_count": 11,
   "metadata": {},
   "outputs": [
    {
     "name": "stdout",
     "output_type": "stream",
     "text": [
      "다현\n"
     ]
    }
   ],
   "source": [
    "node1 = Node()\n",
    "node1.data = '다현'\n",
    "\n",
    "print(node1)"
   ]
  },
  {
   "attachments": {},
   "cell_type": "markdown",
   "metadata": {},
   "source": [
    "#### 두번째 노드생성"
   ]
  },
  {
   "cell_type": "code",
   "execution_count": 16,
   "metadata": {},
   "outputs": [
    {
     "name": "stdout",
     "output_type": "stream",
     "text": [
      "정연\n"
     ]
    }
   ],
   "source": [
    "node2 = Node()\n",
    "node2.data = '정연'\n",
    "\n",
    "node1.link = node2 # 첫번째 노드의 링크에 두번째 노드를 넣어 연결"
   ]
  },
  {
   "attachments": {},
   "cell_type": "markdown",
   "metadata": {},
   "source": [
    "#### 3번 노드부터 게속"
   ]
  },
  {
   "cell_type": "code",
   "execution_count": 20,
   "metadata": {},
   "outputs": [],
   "source": [
    "node3 = Node()\n",
    "node3.data = '쯔위'\n",
    "\n",
    "node2.link = node3\n",
    "\n",
    "node4 = Node()\n",
    "node4.data = '사나'\n",
    "\n",
    "node3.link = node4\n",
    "\n",
    "node5 = Node()\n",
    "node5.data = '지효'\n",
    "\n",
    "node4.link = node5"
   ]
  },
  {
   "attachments": {},
   "cell_type": "markdown",
   "metadata": {},
   "source": [
    "#### 연결리스트 출력"
   ]
  },
  {
   "cell_type": "code",
   "execution_count": 22,
   "metadata": {},
   "outputs": [
    {
     "name": "stdout",
     "output_type": "stream",
     "text": [
      "다현->정연->쯔위->사나->지효\n"
     ]
    }
   ],
   "source": [
    "# 연결리스트 사용 x => node1.data node2.data ... 각각 따로 도는 데이터가 됐을 것\n",
    "print(node1.data, end = '->') # 노드1\n",
    "print(node1.link.data, end = '->') # 노드2\n",
    "print(node1.link.link.data, end = '->') # 노드3\n",
    "print(node1.link.link.link.data, end = '->') # 노드4\n",
    "print(node1.link.link.link.link.data) # 노드5"
   ]
  },
  {
   "cell_type": "code",
   "execution_count": 25,
   "metadata": {},
   "outputs": [
    {
     "name": "stdout",
     "output_type": "stream",
     "text": [
      "다현, 정연, 쯔위, 사나, 지효\n"
     ]
    }
   ],
   "source": [
    "# 이건 연결리스트가 아님\n",
    "print(node1.data, end = ', ') # 노드1\n",
    "print(node2.data, end = ', ') # 노드2\n",
    "print(node3.data, end = ', ') # 노드3\n",
    "print(node4.data, end = ', ') # 노드4\n",
    "print(node5.data) # 노드5"
   ]
  },
  {
   "attachments": {},
   "cell_type": "markdown",
   "metadata": {},
   "source": [
    "#### 연결리스트 출력 함수"
   ]
  },
  {
   "cell_type": "code",
   "execution_count": 38,
   "metadata": {},
   "outputs": [
    {
     "name": "stdout",
     "output_type": "stream",
     "text": [
      "다현 -> 정연 -> 재남 -> 사나 -> 지효\n"
     ]
    }
   ],
   "source": [
    "current = node1\n",
    "print(current.data, end = ' -> ')\n",
    "while current.link != None:\n",
    "    current = current.link\n",
    "    if current.link == None:\n",
    "        print(current.data)\n",
    "    else:\n",
    "        print(current.data, end = ' -> ')\n",
    "        "
   ]
  },
  {
   "attachments": {},
   "cell_type": "markdown",
   "metadata": {},
   "source": [
    "#### 연결리스트에 새 노드 삽입"
   ]
  },
  {
   "cell_type": "code",
   "execution_count": 35,
   "metadata": {},
   "outputs": [],
   "source": [
    "newNode = Node()\n",
    "newNode.data = '재남'\n",
    "newNode.link = node2.link # 노드3\n",
    "node2.link = newNode\n",
    "\n",
    "# 이게 너무 쉬우니까 이제는 배열 잘 안쓰고 리스트로 사용\n",
    "# 개발자들이 엄청 빨라짐 (검색도 잘되고...)\n",
    "# 그래서 파이썬은 배열이랑 리스트를 합쳐버린 것\n",
    "# 기본 파이썬의 속도가 더 빠르기 때문에 이걸 실무에 쓰면 안됨"
   ]
  },
  {
   "attachments": {},
   "cell_type": "markdown",
   "metadata": {},
   "source": [
    "#### 쯔위 노드 삭제\n"
   ]
  },
  {
   "cell_type": "code",
   "execution_count": 36,
   "metadata": {},
   "outputs": [],
   "source": [
    "newNode.link = node3.link # node4 (사나)"
   ]
  },
  {
   "attachments": {},
   "cell_type": "markdown",
   "metadata": {},
   "source": [
    "이걸로도 삭제는 되지만, 메모리상에 쯔위의 노드 계속 남아있습니다."
   ]
  },
  {
   "cell_type": "code",
   "execution_count": 37,
   "metadata": {},
   "outputs": [],
   "source": [
    "del(node3) # 노드 완전 삭제"
   ]
  }
 ],
 "metadata": {
  "kernelspec": {
   "display_name": "Python 3",
   "language": "python",
   "name": "python3"
  },
  "language_info": {
   "codemirror_mode": {
    "name": "ipython",
    "version": 3
   },
   "file_extension": ".py",
   "mimetype": "text/x-python",
   "name": "python",
   "nbconvert_exporter": "python",
   "pygments_lexer": "ipython3",
   "version": "3.11.1 (tags/v3.11.1:a7a450f, Dec  6 2022, 19:58:39) [MSC v.1934 64 bit (AMD64)]"
  },
  "orig_nbformat": 4,
  "vscode": {
   "interpreter": {
    "hash": "a3d8f53f1429d27b792a3789224562ddd32c1395c9a9cfbb17b3c19c3b9a493d"
   }
  }
 },
 "nbformat": 4,
 "nbformat_minor": 2
}
