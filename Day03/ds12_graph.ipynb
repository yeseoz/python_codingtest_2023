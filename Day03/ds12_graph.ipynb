{
 "cells": [
  {
   "attachments": {},
   "cell_type": "markdown",
   "metadata": {},
   "source": [
    "### 그래프\n",
    "\n",
    "#### 무방향성 그래프 G1"
   ]
  },
  {
   "cell_type": "code",
   "execution_count": 1,
   "metadata": {},
   "outputs": [],
   "source": [
    "class Graph:\n",
    "    def __init__(self, size) -> None:\n",
    "        self.SIZE = size\n",
    "        self.graph = [[0 for _ in range(size)] for _ in range(size)] # 2차원 배열"
   ]
  },
  {
   "cell_type": "code",
   "execution_count": 2,
   "metadata": {},
   "outputs": [
    {
     "name": "stdout",
     "output_type": "stream",
     "text": [
      "[0, 0, 0, 0]\n",
      "[0, 0, 0, 0]\n",
      "[0, 0, 0, 0]\n",
      "[0, 0, 0, 0]\n"
     ]
    }
   ],
   "source": [
    "G1 = Graph(4)\n",
    "\n",
    "for item in G1.graph:\n",
    "    print(item)"
   ]
  },
  {
   "cell_type": "code",
   "execution_count": 3,
   "metadata": {},
   "outputs": [],
   "source": [
    "#G1.graph[0][0] = 0 # (A, A) 간선 (edge) 필요 없음\n",
    "G1.graph[0][1] = 1 # (A, B) 간선 (edge)\n",
    "G1.graph[0][2] = 1 # (A, C) 간선 (edge)\n",
    "G1.graph[0][3] = 1 # (A, D) 간선 (edge)"
   ]
  },
  {
   "cell_type": "code",
   "execution_count": 4,
   "metadata": {},
   "outputs": [],
   "source": [
    "# B출발\n",
    "G1.graph[1][0] = 1 # (B, A) 간선 (edge)\n",
    "#G1.graph[1][1] = 0 # (B, B) 간선 (edge) 필요 없음\n",
    "G1.graph[1][2] = 1 # (B, C) 간선 (edge)\n",
    "#G1.graph[1][3] = 0 # (B, D) 간선 (edge)"
   ]
  },
  {
   "cell_type": "code",
   "execution_count": 5,
   "metadata": {},
   "outputs": [],
   "source": [
    "# C출발\n",
    "G1.graph[2][0] = 1 # (C, A) 간선 (edge)\n",
    "G1.graph[2][1] = 1 # (C, B) 간선 (edge) \n",
    "#G1.graph[2][2] = 0 # (C, C) 간선 (edge) 필요 없음\n",
    "G1.graph[2][3] = 1 # (C, D) 간선 (edge)"
   ]
  },
  {
   "cell_type": "code",
   "execution_count": 6,
   "metadata": {},
   "outputs": [],
   "source": [
    "# D출발\n",
    "G1.graph[3][0] = 1 # (D, A) 간선 (edge)\n",
    "#G1.graph[3][1] = 0 # (D, B) 간선 (edge) \n",
    "G1.graph[3][2] = 1 # (D, C) 간선 (edge)\n",
    "#G1.graph[3][3] = 0 # (D, D) 간선 (edge) 필요 없음"
   ]
  },
  {
   "cell_type": "code",
   "execution_count": 9,
   "metadata": {},
   "outputs": [
    {
     "name": "stdout",
     "output_type": "stream",
     "text": [
      "무방향 그래프\n",
      "[0, 1, 1, 1]\n",
      "[1, 0, 1, 0]\n",
      "[1, 1, 0, 1]\n",
      "[1, 0, 1, 0]\n"
     ]
    }
   ],
   "source": [
    "print('무방향 그래프')\n",
    "for item in G1.graph:\n",
    "    print(item)"
   ]
  },
  {
   "attachments": {},
   "cell_type": "markdown",
   "metadata": {},
   "source": [
    "#### 방향성 그래프 G3"
   ]
  },
  {
   "cell_type": "code",
   "execution_count": 10,
   "metadata": {},
   "outputs": [],
   "source": [
    "G3 = Graph(4)\n",
    "\n",
    "# G3.graph[0][0] = 0 # A -> A로 갈필요 x\n",
    "G3.graph[0][1] = 1 # A -> B\n",
    "G3.graph[0][2] = 1 # A -> C\n",
    "# G3.graph[0][3] = 0 # A -> D\n",
    "\n",
    "# G3.graph[1][0] = 0 # B -> A\n",
    "# G3.graph[1][1] = 0 # B -> B\n",
    "# G3.graph[1][2] = 0 # B -> C\n",
    "# G3.graph[1][3] = 0 # B -> D \n",
    "\n",
    "# G3.graph[2][0] = 0 # C -> A\n",
    "# G3.graph[2][1] = 0 # C -> B\n",
    "# G3.graph[2][2] = 0 # C -> C\n",
    "# G3.graph[2][3] = 0 # C -> D\n",
    "\n",
    "G3.graph[3][0] = 1 # D -> A\n",
    "# G3.graph[3][1] = 0 # D -> B\n",
    "G3.graph[3][2] = 1 # D -> C\n",
    "# G3.graph[3][3] = 0 # D -> D"
   ]
  },
  {
   "cell_type": "code",
   "execution_count": 11,
   "metadata": {},
   "outputs": [
    {
     "name": "stdout",
     "output_type": "stream",
     "text": [
      "방향성 그래프\n",
      "[0, 1, 1, 0]\n",
      "[0, 0, 0, 0]\n",
      "[0, 0, 0, 0]\n",
      "[1, 0, 1, 0]\n"
     ]
    }
   ],
   "source": [
    "print('방향성 그래프')\n",
    "for item in G3.graph:\n",
    "    print(item)"
   ]
  }
 ],
 "metadata": {
  "kernelspec": {
   "display_name": "Python 3",
   "language": "python",
   "name": "python3"
  },
  "language_info": {
   "codemirror_mode": {
    "name": "ipython",
    "version": 3
   },
   "file_extension": ".py",
   "mimetype": "text/x-python",
   "name": "python",
   "nbconvert_exporter": "python",
   "pygments_lexer": "ipython3",
   "version": "3.11.1"
  },
  "orig_nbformat": 4,
  "vscode": {
   "interpreter": {
    "hash": "a3d8f53f1429d27b792a3789224562ddd32c1395c9a9cfbb17b3c19c3b9a493d"
   }
  }
 },
 "nbformat": 4,
 "nbformat_minor": 2
}
