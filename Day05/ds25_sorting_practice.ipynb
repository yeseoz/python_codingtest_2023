{
 "cells": [
  {
   "attachments": {},
   "cell_type": "markdown",
   "metadata": {},
   "source": [
    "#### 정렬 고급"
   ]
  },
  {
   "cell_type": "code",
   "execution_count": 8,
   "metadata": {},
   "outputs": [],
   "source": [
    "from tkinter import *\n",
    "\n",
    "window = Tk()\n",
    "window.geometry(\"500x500\")\n",
    "\n",
    "photo = PhotoImage(file='./cupdog.png')\n",
    "\n",
    "photoAry = []\n",
    "h = photo.height()\n",
    "w = photo.width()\n",
    "# 컬러 이미지\n",
    "for i in range(h):\n",
    "    for j in range(w):\n",
    "        r, g, b = photo.get(i, j)\n",
    "        value = (r + g + b) // 3\n",
    "        photoAry.append(value)\n",
    "\n",
    "# 그레이 이미지를 흑 아니면 백으로 바꿔 버림\n",
    "for i in range(len(photoAry)):\n",
    "    if photoAry[i] <= 127:\n",
    "        photoAry[i] = 0\n",
    "    else:\n",
    "        photoAry[i] = 255\n",
    "\n",
    "# 컬러이미지를 그레이 이미지로 바꿔 버림\n",
    "pos = 0\n",
    "for i in range(h):\n",
    "    for j in range(w):\n",
    "        r = g = b = photoAry[pos]\n",
    "        pos+=1\n",
    "        photo.put('#%02x%02x%02x' % (r, g, b), (i, j))\n",
    "\n",
    "paper = Label(window, image = photo)\n",
    "paper.pack(expand = 1, anchor = CENTER)\n",
    "\n",
    "window.mainloop()\n",
    "\n"
   ]
  }
 ],
 "metadata": {
  "kernelspec": {
   "display_name": "Python 3",
   "language": "python",
   "name": "python3"
  },
  "language_info": {
   "codemirror_mode": {
    "name": "ipython",
    "version": 3
   },
   "file_extension": ".py",
   "mimetype": "text/x-python",
   "name": "python",
   "nbconvert_exporter": "python",
   "pygments_lexer": "ipython3",
   "version": "3.11.1"
  },
  "orig_nbformat": 4,
  "vscode": {
   "interpreter": {
    "hash": "a3d8f53f1429d27b792a3789224562ddd32c1395c9a9cfbb17b3c19c3b9a493d"
   }
  }
 },
 "nbformat": 4,
 "nbformat_minor": 2
}
